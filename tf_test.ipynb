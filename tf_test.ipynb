{
 "cells": [
  {
   "cell_type": "code",
   "execution_count": 1,
   "metadata": {},
   "outputs": [
    {
     "name": "stdout",
     "output_type": "stream",
     "text": [
      "b'Hello Mike.'\n"
     ]
    }
   ],
   "source": [
    "# 测试下tensorflow模块是否正常\n",
    "import tensorflow as tf\n",
    "hello = tf.constant('Hello Mike.')\n",
    "sess = tf.Session()\n",
    "print(sess.run(hello))"
   ]
  },
  {
   "cell_type": "code",
   "execution_count": 2,
   "metadata": {},
   "outputs": [
    {
     "name": "stdout",
     "output_type": "stream",
     "text": [
      "8\n",
      "[[ 0.  0.]\n",
      " [ 0.  0.]]\n"
     ]
    }
   ],
   "source": [
    "# tesorflow使用的计算图\n",
    "a = tf.constant(2,tf.int16)\n",
    "b = tf.constant(2,tf.int32)\n",
    "graph = tf.Graph()\n",
    "with graph.as_default():\n",
    "    a = tf.Variable(8, tf.float32)\n",
    "    b = tf.Variable(tf.zeros([2,2], tf.float32))\n",
    "    \n",
    "with tf.Session(graph=graph) as session:\n",
    "    tf.global_variables_initializer().run()\n",
    "    print(session.run(a))\n",
    "    print(session.run(b))"
   ]
  },
  {
   "cell_type": "code",
   "execution_count": 4,
   "metadata": {},
   "outputs": [
    {
     "name": "stdout",
     "output_type": "stream",
     "text": [
      "[[-0.11131823  2.38459873]]\n",
      "[[-0.11131823  2.38459873]]\n"
     ]
    },
    {
     "data": {
      "text/plain": [
       "<bound method BaseSession.close of <tensorflow.python.client.session.Session object at 0x10734ec18>>"
      ]
     },
     "execution_count": 4,
     "metadata": {},
     "output_type": "execute_result"
    }
   ],
   "source": [
    "w1 = tf.Variable(tf.random_normal([1,2],stddev=1,seed=1))\n",
    "\n",
    "# 因为需要重复输入x，而每建一个x就会生成一个结点，计算图的效率会低。所以使用占位符placeholder\n",
    "x = tf.placeholder(tf.float32,shape=(1,2))\n",
    "x1 = tf.constant([[0.7,0.9]])\n",
    "\n",
    "a = x + w1\n",
    "b = x1 + w1\n",
    "\n",
    "sess = tf.Session()\n",
    "sess.run(tf.global_variables_initializer())\n",
    "\n",
    "# 运行y时将占位符填上，feed_dict为字典，变量名不可变\n",
    "y_1 = sess.run(a,feed_dict={x:[[0.7,0.9]]})\n",
    "y_2 = sess.run(b)\n",
    "print(y_1)\n",
    "print(y_2)\n",
    "sess.close\n"
   ]
  },
  {
   "cell_type": "code",
   "execution_count": 6,
   "metadata": {},
   "outputs": [
    {
     "name": "stdout",
     "output_type": "stream",
     "text": [
      "the distance between [[1 2]] and [[15 16]] -> [19.79899]\n",
      "the distance between [[3 4]] and [[13 14]] -> [14.142136]\n",
      "the distance between [[5 6]] and [[11 12]] -> [8.485281]\n",
      "the distance between [[7 8]] and [[ 9 10]] -> [2.8284271]\n"
     ]
    }
   ],
   "source": [
    "import numpy as np\n",
    "\n",
    "list_of_points1_ = [[1,2], [3,4], [5,6], [7,8]]\n",
    "list_of_points2_ = [[15,16], [13,14], [11,12], [9,10]]\n",
    "\n",
    "list_of_points1 = np.array([np.array(elem).reshape(1,2) for elem in list_of_points1_])\n",
    "list_of_points2 = np.array([np.array(elem).reshape(1,2) for elem in list_of_points2_])\n",
    "\n",
    "graph = tf.Graph()\n",
    "\n",
    "with graph.as_default():   \n",
    "\n",
    "    # 我们使用 tf.placeholder() 创建占位符 ，在 session.run() 过程中再投递数据 \n",
    "    point1 = tf.placeholder(tf.float32, shape=(1, 2))\n",
    "    point2 = tf.placeholder(tf.float32, shape=(1, 2))\n",
    "    # 计算两点间欧式距离\n",
    "    def calculate_eucledian_distance(point1, point2):\n",
    "        difference = tf.subtract(point1, point2)\n",
    "        power2 = tf.pow(difference, tf.constant(2.0, shape=(1,2)))\n",
    "        add = tf.reduce_sum(power2)\n",
    "        eucledian_distance = tf.sqrt(add)\n",
    "        return eucledian_distance\n",
    "\n",
    "    dist = calculate_eucledian_distance(point1, point2)\n",
    "\n",
    "with tf.Session(graph = graph) as session:  # graph=graph ???\n",
    "    tf.global_variables_initializer().run()   \n",
    "    for ii in range(len(list_of_points1)):\n",
    "        point1_ = list_of_points1[ii]\n",
    "        point2_ = list_of_points2[ii]\n",
    "\n",
    "        # 使用feed_dict将数据投入到[dist]中\n",
    "        feed_dict = {point1 : point1_, point2 : point2_}\n",
    "        distance = session.run([dist], feed_dict=feed_dict)\n",
    "        print(\"the distance between {} and {} -> {}\".format(point1_, point2_, distance))\n"
   ]
  },
  {
   "cell_type": "code",
   "execution_count": null,
   "metadata": {},
   "outputs": [],
   "source": []
  }
 ],
 "metadata": {
  "kernelspec": {
   "display_name": "Python 3",
   "language": "python",
   "name": "python3"
  },
  "language_info": {
   "codemirror_mode": {
    "name": "ipython",
    "version": 3
   },
   "file_extension": ".py",
   "mimetype": "text/x-python",
   "name": "python",
   "nbconvert_exporter": "python",
   "pygments_lexer": "ipython3",
   "version": "3.6.0"
  }
 },
 "nbformat": 4,
 "nbformat_minor": 2
}
